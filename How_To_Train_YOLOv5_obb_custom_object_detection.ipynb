{
  "nbformat": 4,
  "nbformat_minor": 0,
  "metadata": {
    "colab": {
      "provenance": [],
      "include_colab_link": true
    },
    "kernelspec": {
      "name": "python3",
      "display_name": "Python 3"
    },
    "language_info": {
      "name": "python"
    },
    "accelerator": "GPU"
  },
  "cells": [
    {
      "cell_type": "markdown",
      "metadata": {
        "id": "view-in-github",
        "colab_type": "text"
      },
      "source": [
        "<a href=\"https://colab.research.google.com/github/sanjayeedith/Hurricane-Prediction-Using-AI-ML/blob/main/How_To_Train_YOLOv5_obb_custom_object_detection.ipynb\" target=\"_parent\"><img src=\"https://colab.research.google.com/assets/colab-badge.svg\" alt=\"Open In Colab\"/></a>"
      ]
    },
    {
      "cell_type": "markdown",
      "source": [],
      "metadata": {
        "id": "6QPnT5vgPQKK"
      }
    },
    {
      "cell_type": "markdown",
      "source": [
        "#How To Train YOLOv5 Oriented Bounding Boxes Custom Object Detection\n",
        "\n",
        "Oriented bounding boxes are bounding boxes rotated to better fit the objects represented on an angle. In this notebook, we use the YOLOv5-OBB repository in order to train an already annotated dataset to view the Oriented bounding boxes detection at play.\n",
        "\n",
        "\n",
        "## Instructions\n",
        "\n",
        "Run one cell at at time and run:\n",
        "\n",
        "```\n",
        ">>> import torch\n",
        ">>> torch.version.cuda\n",
        ">>> exit()\n",
        "```\n",
        "\n",
        "when prompted to in the first cell.\n",
        "\n",
        "Addidtional Resources:\n",
        "\n",
        "- [Yolov5-OBB installation instructions](https://github.com/hukaixuan19970627/yolov5_obb/blob/master/docs/install.md)\n",
        "- [Getting started](https://github.com/hukaixuan19970627/yolov5_obb/blob/master/docs/GetStart.md)"
      ],
      "metadata": {
        "id": "STfdGh5Ui6Tn"
      }
    },
    {
      "cell_type": "code",
      "source": [],
      "metadata": {
        "id": "E0S9H9YiS1h-"
      },
      "execution_count": null,
      "outputs": []
    },
    {
      "cell_type": "code",
      "source": [
        "!pip3 install torch==1.10.1+cu113 torchvision==0.11.2+cu113 torchaudio==0.10.1+cu113 -f https://download.pytorch.org/whl/cu113/torch_stable.html\n",
        "!nvcc -V\n",
        "!python"
      ],
      "metadata": {
        "colab": {
          "base_uri": "https://localhost:8080/"
        },
        "id": "1NZxhXTMWvek",
        "outputId": "401f4df9-dfaa-49bd-acd1-fa96a0050c40"
      },
      "execution_count": null,
      "outputs": [
        {
          "metadata": {
            "tags": null
          },
          "name": "stdout",
          "output_type": "stream",
          "text": [
            "Looking in indexes: https://pypi.org/simple, https://us-python.pkg.dev/colab-wheels/public/simple/\n",
            "Looking in links: https://download.pytorch.org/whl/cu113/torch_stable.html\n",
            "Collecting torch==1.10.1+cu113\n",
            "  Downloading https://download.pytorch.org/whl/cu113/torch-1.10.1%2Bcu113-cp37-cp37m-linux_x86_64.whl (1821.5 MB)\n",
            "\u001b[K     |██████████████▋                 | 834.1 MB 1.3 MB/s eta 0:13:00tcmalloc: large alloc 1147494400 bytes == 0x3aae8000 @  0x7f5386a6e615 0x592b76 0x4df71e 0x59afff 0x515655 0x549576 0x593fce 0x548ae9 0x51566f 0x549576 0x593fce 0x548ae9 0x5127f1 0x598e3b 0x511f68 0x598e3b 0x511f68 0x598e3b 0x511f68 0x4bc98a 0x532e76 0x594b72 0x515600 0x549576 0x593fce 0x548ae9 0x5127f1 0x549576 0x593fce 0x5118f8 0x593dd7\n",
            "\u001b[K     |██████████████████▌             | 1055.7 MB 1.4 MB/s eta 0:09:05tcmalloc: large alloc 1434370048 bytes == 0x7f13e000 @  0x7f5386a6e615 0x592b76 0x4df71e 0x59afff 0x515655 0x549576 0x593fce 0x548ae9 0x51566f 0x549576 0x593fce 0x548ae9 0x5127f1 0x598e3b 0x511f68 0x598e3b 0x511f68 0x598e3b 0x511f68 0x4bc98a 0x532e76 0x594b72 0x515600 0x549576 0x593fce 0x548ae9 0x5127f1 0x549576 0x593fce 0x5118f8 0x593dd7\n",
            "\u001b[K     |███████████████████████▌        | 1336.2 MB 1.2 MB/s eta 0:06:38tcmalloc: large alloc 1792966656 bytes == 0x3f70000 @  0x7f5386a6e615 0x592b76 0x4df71e 0x59afff 0x515655 0x549576 0x593fce 0x548ae9 0x51566f 0x549576 0x593fce 0x548ae9 0x5127f1 0x598e3b 0x511f68 0x598e3b 0x511f68 0x598e3b 0x511f68 0x4bc98a 0x532e76 0x594b72 0x515600 0x549576 0x593fce 0x548ae9 0x5127f1 0x549576 0x593fce 0x5118f8 0x593dd7\n",
            "\u001b[K     |█████████████████████████████▊  | 1691.1 MB 1.2 MB/s eta 0:01:48tcmalloc: large alloc 2241208320 bytes == 0x6ed58000 @  0x7f5386a6e615 0x592b76 0x4df71e 0x59afff 0x515655 0x549576 0x593fce 0x548ae9 0x51566f 0x549576 0x593fce 0x548ae9 0x5127f1 0x598e3b 0x511f68 0x598e3b 0x511f68 0x598e3b 0x511f68 0x4bc98a 0x532e76 0x594b72 0x515600 0x549576 0x593fce 0x548ae9 0x5127f1 0x549576 0x593fce 0x5118f8 0x593dd7\n",
            "\u001b[K     |████████████████████████████████| 1821.5 MB 1.2 MB/s eta 0:00:01tcmalloc: large alloc 1821458432 bytes == 0xf46ba000 @  0x7f5386a6d1e7 0x4a3940 0x4a39cc 0x592b76 0x4df71e 0x59afff 0x515655 0x549576 0x593fce 0x511e2c 0x549576 0x593fce 0x511e2c 0x549576 0x593fce 0x511e2c 0x549576 0x593fce 0x511e2c 0x549576 0x593fce 0x511e2c 0x593dd7 0x511e2c 0x549576 0x593fce 0x548ae9 0x5127f1 0x549576 0x593fce 0x548ae9\n",
            "tcmalloc: large alloc 2276827136 bytes == 0x160fce000 @  0x7f5386a6e615 0x592b76 0x4df71e 0x59afff 0x515655 0x549576 0x593fce 0x511e2c 0x549576 0x593fce 0x511e2c 0x549576 0x593fce 0x511e2c 0x549576 0x593fce 0x511e2c 0x549576 0x593fce 0x511e2c 0x593dd7 0x511e2c 0x549576 0x593fce 0x548ae9 0x5127f1 0x549576 0x593fce 0x548ae9 0x5127f1 0x549576\n",
            "\u001b[K     |████████████████████████████████| 1821.5 MB 6.7 kB/s \n",
            "\u001b[?25hCollecting torchvision==0.11.2+cu113\n",
            "  Downloading https://download.pytorch.org/whl/cu113/torchvision-0.11.2%2Bcu113-cp37-cp37m-linux_x86_64.whl (24.6 MB)\n",
            "\u001b[K     |████████████████████████████████| 24.6 MB 1.4 MB/s \n",
            "\u001b[?25hCollecting torchaudio==0.10.1+cu113\n",
            "  Downloading https://download.pytorch.org/whl/cu113/torchaudio-0.10.1%2Bcu113-cp37-cp37m-linux_x86_64.whl (2.9 MB)\n",
            "\u001b[K     |████████████████████████████████| 2.9 MB 47.5 MB/s \n",
            "\u001b[?25hRequirement already satisfied: typing-extensions in /usr/local/lib/python3.7/dist-packages (from torch==1.10.1+cu113) (4.1.1)\n",
            "Requirement already satisfied: pillow!=8.3.0,>=5.3.0 in /usr/local/lib/python3.7/dist-packages (from torchvision==0.11.2+cu113) (7.1.2)\n",
            "Requirement already satisfied: numpy in /usr/local/lib/python3.7/dist-packages (from torchvision==0.11.2+cu113) (1.21.6)\n",
            "Installing collected packages: torch, torchvision, torchaudio\n",
            "  Attempting uninstall: torch\n",
            "    Found existing installation: torch 1.11.0+cu113\n",
            "    Uninstalling torch-1.11.0+cu113:\n",
            "      Successfully uninstalled torch-1.11.0+cu113\n",
            "  Attempting uninstall: torchvision\n",
            "    Found existing installation: torchvision 0.12.0+cu113\n",
            "    Uninstalling torchvision-0.12.0+cu113:\n",
            "      Successfully uninstalled torchvision-0.12.0+cu113\n",
            "  Attempting uninstall: torchaudio\n",
            "    Found existing installation: torchaudio 0.11.0+cu113\n",
            "    Uninstalling torchaudio-0.11.0+cu113:\n",
            "      Successfully uninstalled torchaudio-0.11.0+cu113\n",
            "\u001b[31mERROR: pip's dependency resolver does not currently take into account all the packages that are installed. This behaviour is the source of the following dependency conflicts.\n",
            "torchtext 0.12.0 requires torch==1.11.0, but you have torch 1.10.1+cu113 which is incompatible.\u001b[0m\n",
            "Successfully installed torch-1.10.1+cu113 torchaudio-0.10.1+cu113 torchvision-0.11.2+cu113\n",
            "nvcc: NVIDIA (R) Cuda compiler driver\n",
            "Copyright (c) 2005-2020 NVIDIA Corporation\n",
            "Built on Mon_Oct_12_20:09:46_PDT_2020\n",
            "Cuda compilation tools, release 11.1, V11.1.105\n",
            "Build cuda_11.1.TC455_06.29190527_0\n",
            "Python 3.7.13 (default, Apr 24 2022, 01:04:09) \n",
            "[GCC 7.5.0] on linux\n",
            "Type \"help\", \"copyright\", \"credits\" or \"license\" for more information.\n",
            ">>> "
          ]
        }
      ]
    },
    {
      "cell_type": "code",
      "source": [
        "!git clone https://github.com/hukaixuan19970627/yolov5_obb.git"
      ],
      "metadata": {
        "id": "9cWpOA-iLBdJ"
      },
      "execution_count": null,
      "outputs": []
    },
    {
      "cell_type": "code",
      "source": [
        "%cd /content/yolov5_obb/\n",
        "!pip install -r requirements.txt"
      ],
      "metadata": {
        "colab": {
          "base_uri": "https://localhost:8080/"
        },
        "id": "XrMDF3vubJlt",
        "outputId": "dc6e00cd-3586-4582-cb85-bce9d0755277"
      },
      "execution_count": null,
      "outputs": [
        {
          "output_type": "stream",
          "name": "stdout",
          "text": [
            "/content/yolov5_obb\n",
            "Requirement already satisfied: matplotlib>=3.2.2 in /usr/local/lib/python3.7/dist-packages (from -r requirements.txt (line 4)) (3.2.2)\n",
            "Requirement already satisfied: numpy>=1.18.5 in /usr/local/lib/python3.7/dist-packages (from -r requirements.txt (line 5)) (1.21.6)\n",
            "Collecting opencv-python>=4.5.4\n",
            "  Downloading opencv_python-4.5.5.64-cp36-abi3-manylinux_2_17_x86_64.manylinux2014_x86_64.whl (60.5 MB)\n",
            "\u001b[K     |████████████████████████████████| 60.5 MB 1.3 MB/s \n",
            "\u001b[?25hRequirement already satisfied: Pillow>=7.1.2 in /usr/local/lib/python3.7/dist-packages (from -r requirements.txt (line 7)) (7.1.2)\n",
            "Collecting PyYAML>=5.3.1\n",
            "  Downloading PyYAML-6.0-cp37-cp37m-manylinux_2_5_x86_64.manylinux1_x86_64.manylinux_2_12_x86_64.manylinux2010_x86_64.whl (596 kB)\n",
            "\u001b[K     |████████████████████████████████| 596 kB 3.6 MB/s \n",
            "\u001b[?25hRequirement already satisfied: requests>=2.23.0 in /usr/local/lib/python3.7/dist-packages (from -r requirements.txt (line 9)) (2.23.0)\n",
            "Requirement already satisfied: scipy>=1.4.1 in /usr/local/lib/python3.7/dist-packages (from -r requirements.txt (line 10)) (1.4.1)\n",
            "Requirement already satisfied: torch>=1.7.0 in /usr/local/lib/python3.7/dist-packages (from -r requirements.txt (line 11)) (1.10.1+cu113)\n",
            "Requirement already satisfied: torchvision>=0.8.1 in /usr/local/lib/python3.7/dist-packages (from -r requirements.txt (line 12)) (0.11.2+cu113)\n",
            "Requirement already satisfied: tqdm>=4.41.0 in /usr/local/lib/python3.7/dist-packages (from -r requirements.txt (line 13)) (4.64.0)\n",
            "Requirement already satisfied: tensorboard>=2.4.1 in /usr/local/lib/python3.7/dist-packages (from -r requirements.txt (line 16)) (2.8.0)\n",
            "Requirement already satisfied: pandas>=1.1.4 in /usr/local/lib/python3.7/dist-packages (from -r requirements.txt (line 20)) (1.3.5)\n",
            "Requirement already satisfied: seaborn>=0.11.0 in /usr/local/lib/python3.7/dist-packages (from -r requirements.txt (line 21)) (0.11.2)\n",
            "Collecting thop\n",
            "  Downloading thop-0.0.31.post2005241907-py3-none-any.whl (8.7 kB)\n",
            "Requirement already satisfied: python-dateutil>=2.1 in /usr/local/lib/python3.7/dist-packages (from matplotlib>=3.2.2->-r requirements.txt (line 4)) (2.8.2)\n",
            "Requirement already satisfied: cycler>=0.10 in /usr/local/lib/python3.7/dist-packages (from matplotlib>=3.2.2->-r requirements.txt (line 4)) (0.11.0)\n",
            "Requirement already satisfied: pyparsing!=2.0.4,!=2.1.2,!=2.1.6,>=2.0.1 in /usr/local/lib/python3.7/dist-packages (from matplotlib>=3.2.2->-r requirements.txt (line 4)) (3.0.8)\n",
            "Requirement already satisfied: kiwisolver>=1.0.1 in /usr/local/lib/python3.7/dist-packages (from matplotlib>=3.2.2->-r requirements.txt (line 4)) (1.4.2)\n",
            "Requirement already satisfied: urllib3!=1.25.0,!=1.25.1,<1.26,>=1.21.1 in /usr/local/lib/python3.7/dist-packages (from requests>=2.23.0->-r requirements.txt (line 9)) (1.24.3)\n",
            "Requirement already satisfied: certifi>=2017.4.17 in /usr/local/lib/python3.7/dist-packages (from requests>=2.23.0->-r requirements.txt (line 9)) (2021.10.8)\n",
            "Requirement already satisfied: chardet<4,>=3.0.2 in /usr/local/lib/python3.7/dist-packages (from requests>=2.23.0->-r requirements.txt (line 9)) (3.0.4)\n",
            "Requirement already satisfied: idna<3,>=2.5 in /usr/local/lib/python3.7/dist-packages (from requests>=2.23.0->-r requirements.txt (line 9)) (2.10)\n",
            "Requirement already satisfied: typing-extensions in /usr/local/lib/python3.7/dist-packages (from torch>=1.7.0->-r requirements.txt (line 11)) (4.2.0)\n",
            "Requirement already satisfied: protobuf>=3.6.0 in /usr/local/lib/python3.7/dist-packages (from tensorboard>=2.4.1->-r requirements.txt (line 16)) (3.17.3)\n",
            "Requirement already satisfied: markdown>=2.6.8 in /usr/local/lib/python3.7/dist-packages (from tensorboard>=2.4.1->-r requirements.txt (line 16)) (3.3.6)\n",
            "Requirement already satisfied: tensorboard-plugin-wit>=1.6.0 in /usr/local/lib/python3.7/dist-packages (from tensorboard>=2.4.1->-r requirements.txt (line 16)) (1.8.1)\n",
            "Requirement already satisfied: absl-py>=0.4 in /usr/local/lib/python3.7/dist-packages (from tensorboard>=2.4.1->-r requirements.txt (line 16)) (1.0.0)\n",
            "Requirement already satisfied: google-auth-oauthlib<0.5,>=0.4.1 in /usr/local/lib/python3.7/dist-packages (from tensorboard>=2.4.1->-r requirements.txt (line 16)) (0.4.6)\n",
            "Requirement already satisfied: tensorboard-data-server<0.7.0,>=0.6.0 in /usr/local/lib/python3.7/dist-packages (from tensorboard>=2.4.1->-r requirements.txt (line 16)) (0.6.1)\n",
            "Requirement already satisfied: werkzeug>=0.11.15 in /usr/local/lib/python3.7/dist-packages (from tensorboard>=2.4.1->-r requirements.txt (line 16)) (1.0.1)\n",
            "Requirement already satisfied: wheel>=0.26 in /usr/local/lib/python3.7/dist-packages (from tensorboard>=2.4.1->-r requirements.txt (line 16)) (0.37.1)\n",
            "Requirement already satisfied: setuptools>=41.0.0 in /usr/local/lib/python3.7/dist-packages (from tensorboard>=2.4.1->-r requirements.txt (line 16)) (57.4.0)\n",
            "Requirement already satisfied: grpcio>=1.24.3 in /usr/local/lib/python3.7/dist-packages (from tensorboard>=2.4.1->-r requirements.txt (line 16)) (1.44.0)\n",
            "Requirement already satisfied: google-auth<3,>=1.6.3 in /usr/local/lib/python3.7/dist-packages (from tensorboard>=2.4.1->-r requirements.txt (line 16)) (1.35.0)\n",
            "Requirement already satisfied: pytz>=2017.3 in /usr/local/lib/python3.7/dist-packages (from pandas>=1.1.4->-r requirements.txt (line 20)) (2022.1)\n",
            "Requirement already satisfied: six in /usr/local/lib/python3.7/dist-packages (from absl-py>=0.4->tensorboard>=2.4.1->-r requirements.txt (line 16)) (1.15.0)\n",
            "Requirement already satisfied: pyasn1-modules>=0.2.1 in /usr/local/lib/python3.7/dist-packages (from google-auth<3,>=1.6.3->tensorboard>=2.4.1->-r requirements.txt (line 16)) (0.2.8)\n",
            "Requirement already satisfied: rsa<5,>=3.1.4 in /usr/local/lib/python3.7/dist-packages (from google-auth<3,>=1.6.3->tensorboard>=2.4.1->-r requirements.txt (line 16)) (4.8)\n",
            "Requirement already satisfied: cachetools<5.0,>=2.0.0 in /usr/local/lib/python3.7/dist-packages (from google-auth<3,>=1.6.3->tensorboard>=2.4.1->-r requirements.txt (line 16)) (4.2.4)\n",
            "Requirement already satisfied: requests-oauthlib>=0.7.0 in /usr/local/lib/python3.7/dist-packages (from google-auth-oauthlib<0.5,>=0.4.1->tensorboard>=2.4.1->-r requirements.txt (line 16)) (1.3.1)\n",
            "Requirement already satisfied: importlib-metadata>=4.4 in /usr/local/lib/python3.7/dist-packages (from markdown>=2.6.8->tensorboard>=2.4.1->-r requirements.txt (line 16)) (4.11.3)\n",
            "Requirement already satisfied: zipp>=0.5 in /usr/local/lib/python3.7/dist-packages (from importlib-metadata>=4.4->markdown>=2.6.8->tensorboard>=2.4.1->-r requirements.txt (line 16)) (3.8.0)\n",
            "Requirement already satisfied: pyasn1<0.5.0,>=0.4.6 in /usr/local/lib/python3.7/dist-packages (from pyasn1-modules>=0.2.1->google-auth<3,>=1.6.3->tensorboard>=2.4.1->-r requirements.txt (line 16)) (0.4.8)\n",
            "Requirement already satisfied: oauthlib>=3.0.0 in /usr/local/lib/python3.7/dist-packages (from requests-oauthlib>=0.7.0->google-auth-oauthlib<0.5,>=0.4.1->tensorboard>=2.4.1->-r requirements.txt (line 16)) (3.2.0)\n",
            "Installing collected packages: thop, PyYAML, opencv-python\n",
            "  Attempting uninstall: PyYAML\n",
            "    Found existing installation: PyYAML 3.13\n",
            "    Uninstalling PyYAML-3.13:\n",
            "      Successfully uninstalled PyYAML-3.13\n",
            "  Attempting uninstall: opencv-python\n",
            "    Found existing installation: opencv-python 4.1.2.30\n",
            "    Uninstalling opencv-python-4.1.2.30:\n",
            "      Successfully uninstalled opencv-python-4.1.2.30\n",
            "\u001b[31mERROR: pip's dependency resolver does not currently take into account all the packages that are installed. This behaviour is the source of the following dependency conflicts.\n",
            "albumentations 0.1.12 requires imgaug<0.2.7,>=0.2.5, but you have imgaug 0.2.9 which is incompatible.\u001b[0m\n",
            "Successfully installed PyYAML-6.0 opencv-python-4.5.5.64 thop-0.0.31.post2005241907\n"
          ]
        }
      ]
    },
    {
      "cell_type": "code",
      "source": [
        "%cd utils/nms_rotated\n",
        "!python setup.py develop  #or \"pip install -v -e .\""
      ],
      "metadata": {
        "id": "11G939jgNaVK",
        "colab": {
          "base_uri": "https://localhost:8080/"
        },
        "outputId": "c4ab354e-14ed-4bf6-b406-0cda940cd280"
      },
      "execution_count": null,
      "outputs": [
        {
          "output_type": "stream",
          "name": "stdout",
          "text": [
            "/content/yolov5_obb/utils/nms_rotated\n",
            "running develop\n",
            "running egg_info\n",
            "creating nms_rotated_ext.egg-info\n",
            "writing nms_rotated_ext.egg-info/PKG-INFO\n",
            "writing dependency_links to nms_rotated_ext.egg-info/dependency_links.txt\n",
            "writing top-level names to nms_rotated_ext.egg-info/top_level.txt\n",
            "writing manifest file 'nms_rotated_ext.egg-info/SOURCES.txt'\n",
            "/usr/local/lib/python3.7/dist-packages/torch/utils/cpp_extension.py:381: UserWarning: Attempted to use ninja as the BuildExtension backend but we could not find ninja.. Falling back to using the slow distutils backend.\n",
            "  warnings.warn(msg.format('we could not find ninja.'))\n",
            "writing manifest file 'nms_rotated_ext.egg-info/SOURCES.txt'\n",
            "running build_ext\n",
            "/usr/local/lib/python3.7/dist-packages/torch/utils/cpp_extension.py:782: UserWarning: The detected CUDA version (11.1) has a minor version mismatch with the version that was used to compile PyTorch (11.3). Most likely this shouldn't be a problem.\n",
            "  warnings.warn(CUDA_MISMATCH_WARN.format(cuda_str_version, torch.version.cuda))\n",
            "building '.nms_rotated_ext' extension\n",
            "creating build\n",
            "creating build/temp.linux-x86_64-3.7\n",
            "creating build/temp.linux-x86_64-3.7/src\n",
            "x86_64-linux-gnu-gcc -pthread -Wno-unused-result -Wsign-compare -DNDEBUG -g -fwrapv -O2 -Wall -g -fstack-protector-strong -Wformat -Werror=format-security -g -fwrapv -O2 -g -fstack-protector-strong -Wformat -Werror=format-security -Wdate-time -D_FORTIFY_SOURCE=2 -fPIC -DWITH_CUDA -I/usr/local/lib/python3.7/dist-packages/torch/include -I/usr/local/lib/python3.7/dist-packages/torch/include/torch/csrc/api/include -I/usr/local/lib/python3.7/dist-packages/torch/include/TH -I/usr/local/lib/python3.7/dist-packages/torch/include/THC -I/usr/local/cuda/include -I/usr/include/python3.7m -c src/nms_rotated_cpu.cpp -o build/temp.linux-x86_64-3.7/src/nms_rotated_cpu.o -DTORCH_API_INCLUDE_EXTENSION_H -DPYBIND11_COMPILER_TYPE=\"_gcc\" -DPYBIND11_STDLIB=\"_libstdcpp\" -DPYBIND11_BUILD_ABI=\"_cxxabi1011\" -DTORCH_EXTENSION_NAME=nms_rotated_ext -D_GLIBCXX_USE_CXX11_ABI=0 -std=c++14\n",
            "x86_64-linux-gnu-gcc -pthread -Wno-unused-result -Wsign-compare -DNDEBUG -g -fwrapv -O2 -Wall -g -fstack-protector-strong -Wformat -Werror=format-security -g -fwrapv -O2 -g -fstack-protector-strong -Wformat -Werror=format-security -Wdate-time -D_FORTIFY_SOURCE=2 -fPIC -DWITH_CUDA -I/usr/local/lib/python3.7/dist-packages/torch/include -I/usr/local/lib/python3.7/dist-packages/torch/include/torch/csrc/api/include -I/usr/local/lib/python3.7/dist-packages/torch/include/TH -I/usr/local/lib/python3.7/dist-packages/torch/include/THC -I/usr/local/cuda/include -I/usr/include/python3.7m -c src/nms_rotated_ext.cpp -o build/temp.linux-x86_64-3.7/src/nms_rotated_ext.o -DTORCH_API_INCLUDE_EXTENSION_H -DPYBIND11_COMPILER_TYPE=\"_gcc\" -DPYBIND11_STDLIB=\"_libstdcpp\" -DPYBIND11_BUILD_ABI=\"_cxxabi1011\" -DTORCH_EXTENSION_NAME=nms_rotated_ext -D_GLIBCXX_USE_CXX11_ABI=0 -std=c++14\n",
            "/usr/local/cuda/bin/nvcc -DWITH_CUDA -I/usr/local/lib/python3.7/dist-packages/torch/include -I/usr/local/lib/python3.7/dist-packages/torch/include/torch/csrc/api/include -I/usr/local/lib/python3.7/dist-packages/torch/include/TH -I/usr/local/lib/python3.7/dist-packages/torch/include/THC -I/usr/local/cuda/include -I/usr/include/python3.7m -c src/nms_rotated_cuda.cu -o build/temp.linux-x86_64-3.7/src/nms_rotated_cuda.o -D__CUDA_NO_HALF_OPERATORS__ -D__CUDA_NO_HALF_CONVERSIONS__ -D__CUDA_NO_BFLOAT16_CONVERSIONS__ -D__CUDA_NO_HALF2_OPERATORS__ --expt-relaxed-constexpr --compiler-options '-fPIC' -D__CUDA_NO_HALF_OPERATORS__ -D__CUDA_NO_HALF_CONVERSIONS__ -D__CUDA_NO_HALF2_OPERATORS__ -DTORCH_API_INCLUDE_EXTENSION_H -DPYBIND11_COMPILER_TYPE=\"_gcc\" -DPYBIND11_STDLIB=\"_libstdcpp\" -DPYBIND11_BUILD_ABI=\"_cxxabi1011\" -DTORCH_EXTENSION_NAME=nms_rotated_ext -D_GLIBCXX_USE_CXX11_ABI=0 -gencode=arch=compute_75,code=compute_75 -gencode=arch=compute_75,code=sm_75 -std=c++14\n",
            "/usr/local/cuda/bin/nvcc -DWITH_CUDA -I/usr/local/lib/python3.7/dist-packages/torch/include -I/usr/local/lib/python3.7/dist-packages/torch/include/torch/csrc/api/include -I/usr/local/lib/python3.7/dist-packages/torch/include/TH -I/usr/local/lib/python3.7/dist-packages/torch/include/THC -I/usr/local/cuda/include -I/usr/include/python3.7m -c src/poly_nms_cuda.cu -o build/temp.linux-x86_64-3.7/src/poly_nms_cuda.o -D__CUDA_NO_HALF_OPERATORS__ -D__CUDA_NO_HALF_CONVERSIONS__ -D__CUDA_NO_BFLOAT16_CONVERSIONS__ -D__CUDA_NO_HALF2_OPERATORS__ --expt-relaxed-constexpr --compiler-options '-fPIC' -D__CUDA_NO_HALF_OPERATORS__ -D__CUDA_NO_HALF_CONVERSIONS__ -D__CUDA_NO_HALF2_OPERATORS__ -DTORCH_API_INCLUDE_EXTENSION_H -DPYBIND11_COMPILER_TYPE=\"_gcc\" -DPYBIND11_STDLIB=\"_libstdcpp\" -DPYBIND11_BUILD_ABI=\"_cxxabi1011\" -DTORCH_EXTENSION_NAME=nms_rotated_ext -D_GLIBCXX_USE_CXX11_ABI=0 -gencode=arch=compute_75,code=compute_75 -gencode=arch=compute_75,code=sm_75 -std=c++14\n",
            "creating build/lib.linux-x86_64-3.7\n",
            "x86_64-linux-gnu-g++ -pthread -shared -Wl,-O1 -Wl,-Bsymbolic-functions -Wl,-Bsymbolic-functions -g -fwrapv -O2 -Wl,-Bsymbolic-functions -g -fwrapv -O2 -g -fstack-protector-strong -Wformat -Werror=format-security -Wdate-time -D_FORTIFY_SOURCE=2 build/temp.linux-x86_64-3.7/src/nms_rotated_cpu.o build/temp.linux-x86_64-3.7/src/nms_rotated_ext.o build/temp.linux-x86_64-3.7/src/nms_rotated_cuda.o build/temp.linux-x86_64-3.7/src/poly_nms_cuda.o -L/usr/local/lib/python3.7/dist-packages/torch/lib -L/usr/local/cuda/lib64 -lc10 -ltorch -ltorch_cpu -ltorch_python -lcudart -lc10_cuda -ltorch_cuda_cu -ltorch_cuda_cpp -o build/lib.linux-x86_64-3.7/nms_rotated_ext.cpython-37m-x86_64-linux-gnu.so\n",
            "copying build/lib.linux-x86_64-3.7/nms_rotated_ext.cpython-37m-x86_64-linux-gnu.so -> \n",
            "Creating /usr/local/lib/python3.7/dist-packages/nms-rotated-ext.egg-link (link to .)\n",
            "Adding nms-rotated-ext 0.0.0 to easy-install.pth file\n",
            "\n",
            "Installed /content/yolov5_obb/utils/nms_rotated\n",
            "Processing dependencies for nms-rotated-ext==0.0.0\n",
            "Finished processing dependencies for nms-rotated-ext==0.0.0\n"
          ]
        }
      ]
    },
    {
      "cell_type": "code",
      "source": [
        "%cd /content\n",
        "!mkdir /content/datasets/"
      ],
      "metadata": {
        "colab": {
          "base_uri": "https://localhost:8080/"
        },
        "id": "49QzmYLIMK4r",
        "outputId": "3e132221-6061-4c9e-c55f-3684e9dbec9c"
      },
      "execution_count": null,
      "outputs": [
        {
          "output_type": "stream",
          "name": "stdout",
          "text": [
            "/content\n"
          ]
        }
      ]
    },
    {
      "cell_type": "markdown",
      "source": [
        "##Export\n",
        "\n",
        "Remember to export your annotated dataset following the steps shown [in the video tutorial](https://youtu.be/iRkCNo9-slY?t=136)"
      ],
      "metadata": {
        "id": "HGf0HWV2Lgns"
      }
    },
    {
      "cell_type": "code",
      "source": [
        "%cd /content/datasets/\n",
        "\n",
        "!pip install roboflow\n",
        "\n",
        "from roboflow import Roboflow\n",
        "rf = Roboflow(api_key=\"Your_API_Key\")\n",
        "project = rf.workspace(\"your_workspace_name\").project(\"your_project_name\")\n",
        "dataset = project.version(2).download(\"yolov5-obb\")"
      ],
      "metadata": {
        "colab": {
          "base_uri": "https://localhost:8080/",
          "height": 1000
        },
        "id": "1YDO3yk5dyWx",
        "outputId": "523954a4-1c47-431e-9341-9cb3ca931b14"
      },
      "execution_count": null,
      "outputs": [
        {
          "output_type": "stream",
          "name": "stdout",
          "text": [
            "/content/datasets\n",
            "Collecting roboflow\n",
            "  Downloading roboflow-0.2.4.tar.gz (15 kB)\n",
            "Collecting certifi==2021.5.30\n",
            "  Downloading certifi-2021.5.30-py2.py3-none-any.whl (145 kB)\n",
            "\u001b[K     |████████████████████████████████| 145 kB 40.7 MB/s \n",
            "\u001b[?25hCollecting chardet==4.0.0\n",
            "  Downloading chardet-4.0.0-py2.py3-none-any.whl (178 kB)\n",
            "\u001b[K     |████████████████████████████████| 178 kB 66.2 MB/s \n",
            "\u001b[?25hCollecting cycler==0.10.0\n",
            "  Downloading cycler-0.10.0-py2.py3-none-any.whl (6.5 kB)\n",
            "Requirement already satisfied: idna==2.10 in /usr/local/lib/python3.7/dist-packages (from roboflow) (2.10)\n",
            "Collecting kiwisolver==1.3.1\n",
            "  Downloading kiwisolver-1.3.1-cp37-cp37m-manylinux1_x86_64.whl (1.1 MB)\n",
            "\u001b[K     |████████████████████████████████| 1.1 MB 50.8 MB/s \n",
            "\u001b[?25hRequirement already satisfied: matplotlib in /usr/local/lib/python3.7/dist-packages (from roboflow) (3.2.2)\n",
            "Requirement already satisfied: numpy>=1.18.5 in /usr/local/lib/python3.7/dist-packages (from roboflow) (1.21.6)\n",
            "Requirement already satisfied: opencv-python>=4.1.2 in /usr/local/lib/python3.7/dist-packages (from roboflow) (4.5.5.64)\n",
            "Requirement already satisfied: Pillow>=7.1.2 in /usr/local/lib/python3.7/dist-packages (from roboflow) (7.1.2)\n",
            "Collecting pyparsing==2.4.7\n",
            "  Downloading pyparsing-2.4.7-py2.py3-none-any.whl (67 kB)\n",
            "\u001b[K     |████████████████████████████████| 67 kB 7.7 MB/s \n",
            "\u001b[?25hRequirement already satisfied: python-dateutil in /usr/local/lib/python3.7/dist-packages (from roboflow) (2.8.2)\n",
            "Collecting python-dotenv\n",
            "  Downloading python_dotenv-0.20.0-py3-none-any.whl (17 kB)\n",
            "Requirement already satisfied: requests in /usr/local/lib/python3.7/dist-packages (from roboflow) (2.23.0)\n",
            "Collecting requests_toolbelt\n",
            "  Downloading requests_toolbelt-0.9.1-py2.py3-none-any.whl (54 kB)\n",
            "\u001b[K     |████████████████████████████████| 54 kB 3.6 MB/s \n",
            "\u001b[?25hRequirement already satisfied: six in /usr/local/lib/python3.7/dist-packages (from roboflow) (1.15.0)\n",
            "Collecting urllib3==1.26.6\n",
            "  Downloading urllib3-1.26.6-py2.py3-none-any.whl (138 kB)\n",
            "\u001b[K     |████████████████████████████████| 138 kB 74.2 MB/s \n",
            "\u001b[?25hCollecting wget\n",
            "  Downloading wget-3.2.zip (10 kB)\n",
            "Requirement already satisfied: tqdm>=4.41.0 in /usr/local/lib/python3.7/dist-packages (from roboflow) (4.64.0)\n",
            "Requirement already satisfied: PyYAML>=5.3.1 in /usr/local/lib/python3.7/dist-packages (from roboflow) (6.0)\n",
            "Collecting requests\n",
            "  Downloading requests-2.27.1-py2.py3-none-any.whl (63 kB)\n",
            "\u001b[K     |████████████████████████████████| 63 kB 2.1 MB/s \n",
            "\u001b[?25hRequirement already satisfied: charset-normalizer~=2.0.0 in /usr/local/lib/python3.7/dist-packages (from requests->roboflow) (2.0.12)\n",
            "Building wheels for collected packages: roboflow, wget\n",
            "  Building wheel for roboflow (setup.py) ... \u001b[?25l\u001b[?25hdone\n",
            "  Created wheel for roboflow: filename=roboflow-0.2.4-py3-none-any.whl size=21356 sha256=a0d9e71ea221ebea2a24b0cbce3d8658d5ad2a87863739e7f06d76a489aff45b\n",
            "  Stored in directory: /root/.cache/pip/wheels/b7/2c/60/3733c0e323b1d7aec00f852264314bf6c48192c8e1dc92b3ee\n",
            "  Building wheel for wget (setup.py) ... \u001b[?25l\u001b[?25hdone\n",
            "  Created wheel for wget: filename=wget-3.2-py3-none-any.whl size=9675 sha256=80a87ff7e9adffba6b43ad5451aae3ec0d270d40fc3db998b930dc0bbdf6e77a\n",
            "  Stored in directory: /root/.cache/pip/wheels/a1/b6/7c/0e63e34eb06634181c63adacca38b79ff8f35c37e3c13e3c02\n",
            "Successfully built roboflow wget\n",
            "Installing collected packages: urllib3, certifi, requests, pyparsing, kiwisolver, cycler, wget, requests-toolbelt, python-dotenv, chardet, roboflow\n",
            "  Attempting uninstall: urllib3\n",
            "    Found existing installation: urllib3 1.24.3\n",
            "    Uninstalling urllib3-1.24.3:\n",
            "      Successfully uninstalled urllib3-1.24.3\n",
            "  Attempting uninstall: certifi\n",
            "    Found existing installation: certifi 2021.10.8\n",
            "    Uninstalling certifi-2021.10.8:\n",
            "      Successfully uninstalled certifi-2021.10.8\n",
            "  Attempting uninstall: requests\n",
            "    Found existing installation: requests 2.23.0\n",
            "    Uninstalling requests-2.23.0:\n",
            "      Successfully uninstalled requests-2.23.0\n",
            "  Attempting uninstall: pyparsing\n",
            "    Found existing installation: pyparsing 3.0.8\n",
            "    Uninstalling pyparsing-3.0.8:\n",
            "      Successfully uninstalled pyparsing-3.0.8\n",
            "  Attempting uninstall: kiwisolver\n",
            "    Found existing installation: kiwisolver 1.4.2\n",
            "    Uninstalling kiwisolver-1.4.2:\n",
            "      Successfully uninstalled kiwisolver-1.4.2\n",
            "  Attempting uninstall: cycler\n",
            "    Found existing installation: cycler 0.11.0\n",
            "    Uninstalling cycler-0.11.0:\n",
            "      Successfully uninstalled cycler-0.11.0\n",
            "  Attempting uninstall: chardet\n",
            "    Found existing installation: chardet 3.0.4\n",
            "    Uninstalling chardet-3.0.4:\n",
            "      Successfully uninstalled chardet-3.0.4\n",
            "\u001b[31mERROR: pip's dependency resolver does not currently take into account all the packages that are installed. This behaviour is the source of the following dependency conflicts.\n",
            "torchtext 0.12.0 requires torch==1.11.0, but you have torch 1.10.1+cu113 which is incompatible.\n",
            "google-colab 1.0.0 requires requests~=2.23.0, but you have requests 2.27.1 which is incompatible.\n",
            "datascience 0.10.6 requires folium==0.2.1, but you have folium 0.8.3 which is incompatible.\n",
            "albumentations 0.1.12 requires imgaug<0.2.7,>=0.2.5, but you have imgaug 0.2.9 which is incompatible.\u001b[0m\n",
            "Successfully installed certifi-2021.5.30 chardet-4.0.0 cycler-0.10.0 kiwisolver-1.3.1 pyparsing-2.4.7 python-dotenv-0.20.0 requests-2.27.1 requests-toolbelt-0.9.1 roboflow-0.2.4 urllib3-1.26.6 wget-3.2\n"
          ]
        },
        {
          "output_type": "display_data",
          "data": {
            "application/vnd.colab-display-data+json": {
              "pip_warning": {
                "packages": [
                  "cycler",
                  "kiwisolver",
                  "pyparsing"
                ]
              }
            }
          },
          "metadata": {}
        },
        {
          "output_type": "stream",
          "name": "stdout",
          "text": [
            "loading Roboflow workspace...\n",
            "loading Roboflow project...\n",
            "Downloading Dataset Version Zip in ASL-Poly-2 to yolov5-obb: 100% [10406395 / 10406395] bytes\n"
          ]
        },
        {
          "output_type": "stream",
          "name": "stderr",
          "text": [
            "Extracting Dataset Version Zip to ASL-Poly-2 in yolov5-obb:: 100%|██████████| 1349/1349 [00:00<00:00, 1776.70it/s]\n"
          ]
        }
      ]
    },
    {
      "cell_type": "markdown",
      "source": [
        "## Rename dataset name to roboflow\n",
        "\n",
        "After running the `!pip install` package, our python.train will expect the dataset name to be `roboflow` (with or without changing the code path below). Make sure to change your cloned dataset folder name to `roboflow` before running the cell below.\n",
        "\n",
        "In other words, make sure your dataset structure is:\n",
        "\n",
        "```\n",
        "parent\n",
        "├── yolov5\n",
        "└── datasets\n",
        "    └── roboflow\n",
        "        ├── test\n",
        "        ├── train\n",
        "        └── valid\n",
        "            ├── images\n",
        "                 |────1.jpg\n",
        "                 |────...\n",
        "                 └────10000.jpg\n",
        "            ├── labelTxt\n",
        "                 |────1.txt\n",
        "                 |────...\n",
        "                 └────10000.txt\n",
        "        └────README.roboflow.txt\n",
        "        └────data.yaml\n",
        "```"
      ],
      "metadata": {
        "id": "cZJDvs5Bd59B"
      }
    },
    {
      "cell_type": "code",
      "source": [
        "%cd /content/yolov5_obb/\n",
        "!python train.py --data /content/datasets/roboflow/data.yaml --epochs 10 --batch-size 1 --img 1024 --device 0 --exist-ok\n"
      ],
      "metadata": {
        "colab": {
          "base_uri": "https://localhost:8080/"
        },
        "id": "jXOF90MZeC11",
        "outputId": "04243744-2829-462e-df93-b017bdfc4b45"
      },
      "execution_count": null,
      "outputs": [
        {
          "output_type": "stream",
          "name": "stdout",
          "text": [
            "/content/yolov5_obb\n",
            "\u001b[34m\u001b[1mtrain: \u001b[0mweights=weights/yolov5m.pt, cfg=, data=/content/datasets/roboflow/data.yaml, hyp=data/hyps/obb/hyp.finetune_dota.yaml, epochs=10, batch_size=1, imgsz=1024, rect=False, resume=False, nosave=False, noval=False, noautoanchor=False, evolve=None, bucket=, cache=None, image_weights=False, device=0, multi_scale=False, single_cls=False, adam=False, sync_bn=False, workers=8, project=runs/train, name=exp, exist_ok=True, quad=False, linear_lr=False, label_smoothing=0.0, patience=100, freeze=[0], save_period=-1, local_rank=-1, entity=None, upload_dataset=False, bbox_interval=-1, artifact_alias=latest\n",
            "\u001b[34m\u001b[1mgithub: \u001b[0mup to date with https://github.com/hukaixuan19970627/yolov5_obb ✅\n",
            "YOLOv5 🚀 3f2e708 torch 1.10.1+cu113 CUDA:0 (Tesla T4, 15110MiB)\n",
            "\n",
            "\u001b[34m\u001b[1mhyperparameters: \u001b[0mlr0=0.01, lrf=0.2, momentum=0.937, weight_decay=0.0005, warmup_epochs=3.0, warmup_momentum=0.8, warmup_bias_lr=0.1, box=0.05, cls=0.5, cls_pw=1.0, theta=0.5, theta_pw=1.0, obj=1.0, obj_pw=1.0, iou_t=0.2, anchor_t=4.0, fl_gamma=0.0, hsv_h=0.015, hsv_s=0.7, hsv_v=0.4, degrees=180.0, translate=0.1, scale=0.5, shear=0.0, perspective=0.0, flipud=0.5, fliplr=0.5, mosaic=0.95, mixup=0.1, copy_paste=0.0, cls_theta=180, csl_radius=2.0\n",
            "\u001b[34m\u001b[1mWeights & Biases: \u001b[0mrun 'pip install wandb' to automatically track and visualize YOLOv5 🚀 runs (RECOMMENDED)\n",
            "\u001b[34m\u001b[1mTensorBoard: \u001b[0mStart with 'tensorboard --logdir runs/train', view at http://localhost:6006/\n",
            "Downloading https://github.com/ultralytics/yolov5/releases/download/v6.1/yolov5m.pt to weights/yolov5m.pt...\n",
            "100% 40.8M/40.8M [00:04<00:00, 10.3MB/s]\n",
            "\n",
            "Overriding model.yaml nc=80 with nc=26\n",
            "\n",
            "                 from  n    params  module                                  arguments                     \n",
            "  0                -1  1      5280  models.common.Conv                      [3, 48, 6, 2, 2]              \n",
            "  1                -1  1     41664  models.common.Conv                      [48, 96, 3, 2]                \n",
            "  2                -1  2     65280  models.common.C3                        [96, 96, 2]                   \n",
            "  3                -1  1    166272  models.common.Conv                      [96, 192, 3, 2]               \n",
            "  4                -1  4    444672  models.common.C3                        [192, 192, 4]                 \n",
            "  5                -1  1    664320  models.common.Conv                      [192, 384, 3, 2]              \n",
            "  6                -1  6   2512896  models.common.C3                        [384, 384, 6]                 \n",
            "  7                -1  1   2655744  models.common.Conv                      [384, 768, 3, 2]              \n",
            "  8                -1  2   4134912  models.common.C3                        [768, 768, 2]                 \n",
            "  9                -1  1   1476864  models.common.SPPF                      [768, 768, 5]                 \n",
            " 10                -1  1    295680  models.common.Conv                      [768, 384, 1, 1]              \n",
            " 11                -1  1         0  torch.nn.modules.upsampling.Upsample    [None, 2, 'nearest']          \n",
            " 12           [-1, 6]  1         0  models.common.Concat                    [1]                           \n",
            " 13                -1  2   1182720  models.common.C3                        [768, 384, 2, False]          \n",
            " 14                -1  1     74112  models.common.Conv                      [384, 192, 1, 1]              \n",
            " 15                -1  1         0  torch.nn.modules.upsampling.Upsample    [None, 2, 'nearest']          \n",
            " 16           [-1, 4]  1         0  models.common.Concat                    [1]                           \n",
            " 17                -1  2    296448  models.common.C3                        [384, 192, 2, False]          \n",
            " 18                -1  1    332160  models.common.Conv                      [192, 192, 3, 2]              \n",
            " 19          [-1, 14]  1         0  models.common.Concat                    [1]                           \n",
            " 20                -1  2   1035264  models.common.C3                        [384, 384, 2, False]          \n",
            " 21                -1  1   1327872  models.common.Conv                      [384, 384, 3, 2]              \n",
            " 22          [-1, 10]  1         0  models.common.Concat                    [1]                           \n",
            " 23                -1  2   4134912  models.common.C3                        [768, 768, 2, False]          \n",
            " 24      [17, 20, 23]  1    852651  models.yolo.Detect                      [26, [[10, 13, 16, 30, 33, 23], [30, 61, 62, 45, 59, 119], [116, 90, 156, 198, 373, 326]], [192, 384, 768]]\n",
            "Model Summary: 369 layers, 21699723 parameters, 21699723 gradients, 50.7 GFLOPs\n",
            "\n",
            "Transferred 475/481 items from weights/yolov5m.pt\n",
            "Scaled weight_decay = 0.0005\n",
            "\u001b[34m\u001b[1moptimizer:\u001b[0m SGD with parameter groups 79 weight, 82 weight (no decay), 82 bias\n",
            "\u001b[34m\u001b[1malbumentations: \u001b[0mversion 1.0.3 required by YOLOv5, but version 0.1.12 is currently installed\n",
            "\u001b[34m\u001b[1mtrain: \u001b[0mScanning '../datasets/roboflow/train/labelTxt' images and labels...501 found, 0 missing, 0 empty, 36 corrupted: 100% 501/501 [00:00<00:00, 1768.79it/s]\n",
            "\u001b[34m\u001b[1mtrain: \u001b[0mWARNING: ../datasets/roboflow/train/images/C23_jpg.rf.cde18242d49683e3bff223922f9fe1f3.jpg: ignoring corrupt image/label: negative label values [    -20.761], please check your dota format labels\n",
            "\u001b[34m\u001b[1mtrain: \u001b[0mWARNING: ../datasets/roboflow/train/images/C4_jpg.rf.0eea78191610c2e7aff34bccba12170d.jpg: ignoring corrupt image/label: negative label values [     -28.01], please check your dota format labels\n",
            "\u001b[34m\u001b[1mtrain: \u001b[0mWARNING: ../datasets/roboflow/train/images/C5_jpg.rf.fdae88e87fe878343fea108f3ad3e056.jpg: ignoring corrupt image/label: negative label values [    -38.992], please check your dota format labels\n",
            "\u001b[34m\u001b[1mtrain: \u001b[0mWARNING: ../datasets/roboflow/train/images/C7_jpg.rf.fce3a58dfaea84a122199c5ba97acc73.jpg: ignoring corrupt image/label: negative label values [    -42.865], please check your dota format labels\n",
            "\u001b[34m\u001b[1mtrain: \u001b[0mWARNING: ../datasets/roboflow/train/images/C9_jpg.rf.4499aeb24b867325f20e1e924fa4f82f.jpg: ignoring corrupt image/label: negative label values [    -41.743], please check your dota format labels\n",
            "\u001b[34m\u001b[1mtrain: \u001b[0mWARNING: ../datasets/roboflow/train/images/D18_jpg.rf.08a8cc61666ef3243b31ad652f9abe42.jpg: ignoring corrupt image/label: negative label values [    -4.4711], please check your dota format labels\n",
            "\u001b[34m\u001b[1mtrain: \u001b[0mWARNING: ../datasets/roboflow/train/images/D7_jpg.rf.fb68c9d8883c7b2725b64a6a6d256830.jpg: ignoring corrupt image/label: negative label values [     -2.005], please check your dota format labels\n",
            "\u001b[34m\u001b[1mtrain: \u001b[0mWARNING: ../datasets/roboflow/train/images/F10_jpg.rf.811608b18d085d93d2c68135c05d7635.jpg: ignoring corrupt image/label: negative label values [    -60.636], please check your dota format labels\n",
            "\u001b[34m\u001b[1mtrain: \u001b[0mWARNING: ../datasets/roboflow/train/images/F20_jpg.rf.5502144325631042b1c74717d834be4e.jpg: ignoring corrupt image/label: negative label values [     -62.92], please check your dota format labels\n",
            "\u001b[34m\u001b[1mtrain: \u001b[0mWARNING: ../datasets/roboflow/train/images/F29_jpg.rf.69f55e305026958e6ccf5c07b3501966.jpg: ignoring corrupt image/label: negative label values [    -55.404], please check your dota format labels\n",
            "\u001b[34m\u001b[1mtrain: \u001b[0mWARNING: ../datasets/roboflow/train/images/G16_jpg.rf.1cc1455666bf92e83237dbe1de922a17.jpg: ignoring corrupt image/label: negative label values [    -9.9432], please check your dota format labels\n",
            "\u001b[34m\u001b[1mtrain: \u001b[0mWARNING: ../datasets/roboflow/train/images/G19_jpg.rf.65b0da8e00ecc85d20e39d65bacb99e1.jpg: ignoring corrupt image/label: negative label values [    -42.826], please check your dota format labels\n",
            "\u001b[34m\u001b[1mtrain: \u001b[0mWARNING: ../datasets/roboflow/train/images/G20_jpg.rf.434617ef7303f49473394b12c1dfb2e2.jpg: ignoring corrupt image/label: negative label values [    -7.9833], please check your dota format labels\n",
            "\u001b[34m\u001b[1mtrain: \u001b[0mWARNING: ../datasets/roboflow/train/images/I27_jpg.rf.ee383183b5a524b426b2db8d18c00415.jpg: ignoring corrupt image/label: negative label values [    -6.1472], please check your dota format labels\n",
            "\u001b[34m\u001b[1mtrain: \u001b[0mWARNING: ../datasets/roboflow/train/images/L3_jpg.rf.c52ee4756ff074ba165bb3e63d1348fb.jpg: ignoring corrupt image/label: negative label values [    -37.092], please check your dota format labels\n",
            "\u001b[34m\u001b[1mtrain: \u001b[0mWARNING: ../datasets/roboflow/train/images/L6_jpg.rf.46087d760536e20b0321f11a2d0b8b08.jpg: ignoring corrupt image/label: negative label values [    -24.884], please check your dota format labels\n",
            "\u001b[34m\u001b[1mtrain: \u001b[0mWARNING: ../datasets/roboflow/train/images/L9_jpg.rf.0c6cc89a3ae70be5710ef9b549028220.jpg: ignoring corrupt image/label: negative label values [    -83.979], please check your dota format labels\n",
            "\u001b[34m\u001b[1mtrain: \u001b[0mWARNING: ../datasets/roboflow/train/images/O0_jpg.rf.bc66feb84f178b9bdf0fc2b8d41dbf07.jpg: ignoring corrupt image/label: negative label values [    -24.429], please check your dota format labels\n",
            "\u001b[34m\u001b[1mtrain: \u001b[0mWARNING: ../datasets/roboflow/train/images/O18_jpg.rf.946f426f897954c2200b71d1a8e7f225.jpg: ignoring corrupt image/label: negative label values [    -17.573], please check your dota format labels\n",
            "\u001b[34m\u001b[1mtrain: \u001b[0mWARNING: ../datasets/roboflow/train/images/O7_jpg.rf.e62ea8cd3e12ae53ca8153679404badd.jpg: ignoring corrupt image/label: negative label values [    -42.735], please check your dota format labels\n",
            "\u001b[34m\u001b[1mtrain: \u001b[0mWARNING: ../datasets/roboflow/train/images/O8_jpg.rf.0943338b4dcfed5e7a90f08ae3455729.jpg: ignoring corrupt image/label: negative label values [    -3.5879], please check your dota format labels\n",
            "\u001b[34m\u001b[1mtrain: \u001b[0mWARNING: ../datasets/roboflow/train/images/P14_jpg.rf.61a0e785b29eb506a1b9ab5cecb833c4.jpg: ignoring corrupt image/label: negative label values [    -6.0696], please check your dota format labels\n",
            "\u001b[34m\u001b[1mtrain: \u001b[0mWARNING: ../datasets/roboflow/train/images/P19_jpg.rf.7fde523c1f5587ab87a053365d505bb3.jpg: ignoring corrupt image/label: negative label values [    -29.833], please check your dota format labels\n",
            "\u001b[34m\u001b[1mtrain: \u001b[0mWARNING: ../datasets/roboflow/train/images/P6_jpg.rf.20a0825bf2ad5d4d24827e7890346e77.jpg: ignoring corrupt image/label: negative label values [     -24.43], please check your dota format labels\n",
            "\u001b[34m\u001b[1mtrain: \u001b[0mWARNING: ../datasets/roboflow/train/images/Q24_jpg.rf.423bfdcdf7c8ac922e45b8fb9ba52eaa.jpg: ignoring corrupt image/label: negative label values [    -7.5446], please check your dota format labels\n",
            "\u001b[34m\u001b[1mtrain: \u001b[0mWARNING: ../datasets/roboflow/train/images/Q3_jpg.rf.25a6998255c038ca7e4c1e42afc113a4.jpg: ignoring corrupt image/label: negative label values [    -30.703], please check your dota format labels\n",
            "\u001b[34m\u001b[1mtrain: \u001b[0mWARNING: ../datasets/roboflow/train/images/R12_jpg.rf.5abd55ac0173afae75737a55f4a8399d.jpg: ignoring corrupt image/label: negative label values [    -16.086], please check your dota format labels\n",
            "\u001b[34m\u001b[1mtrain: \u001b[0mWARNING: ../datasets/roboflow/train/images/R24_jpg.rf.655cca2d1568f015cffe893a4dcce5ab.jpg: ignoring corrupt image/label: negative label values [     -35.02], please check your dota format labels\n",
            "\u001b[34m\u001b[1mtrain: \u001b[0mWARNING: ../datasets/roboflow/train/images/T12_jpg.rf.48537461f68419176e98951ac6ae8d86.jpg: ignoring corrupt image/label: negative label values [    -2.2109], please check your dota format labels\n",
            "\u001b[34m\u001b[1mtrain: \u001b[0mWARNING: ../datasets/roboflow/train/images/X13_jpg.rf.6462dff6097b89695dbf815d17e4af62.jpg: ignoring corrupt image/label: negative label values [    -21.885], please check your dota format labels\n",
            "\u001b[34m\u001b[1mtrain: \u001b[0mWARNING: ../datasets/roboflow/train/images/X16_jpg.rf.a7cc73097f3a062db9d834d5f17af013.jpg: ignoring corrupt image/label: negative label values [    -8.9408], please check your dota format labels\n",
            "\u001b[34m\u001b[1mtrain: \u001b[0mWARNING: ../datasets/roboflow/train/images/X1_jpg.rf.0f74e3730097d34efb7132754bbb13fb.jpg: ignoring corrupt image/label: negative label values [    -50.895], please check your dota format labels\n",
            "\u001b[34m\u001b[1mtrain: \u001b[0mWARNING: ../datasets/roboflow/train/images/X5_jpg.rf.b2963871586029a7d37ac90b9d89d2e8.jpg: ignoring corrupt image/label: negative label values [    -26.388], please check your dota format labels\n",
            "\u001b[34m\u001b[1mtrain: \u001b[0mWARNING: ../datasets/roboflow/train/images/X6_jpg.rf.e9554f7e0283c22f53e1dda1904da5a6.jpg: ignoring corrupt image/label: negative label values [    -25.065], please check your dota format labels\n",
            "\u001b[34m\u001b[1mtrain: \u001b[0mWARNING: ../datasets/roboflow/train/images/Y20_jpg.rf.de11356e3a881e689621d78a89a5e95e.jpg: ignoring corrupt image/label: negative label values [    -19.478], please check your dota format labels\n",
            "\u001b[34m\u001b[1mtrain: \u001b[0mWARNING: ../datasets/roboflow/train/images/Z12_jpg.rf.adf796c0e561ae9c84c8d67a64216281.jpg: ignoring corrupt image/label: negative label values [   -0.76002], please check your dota format labels\n",
            "\u001b[34m\u001b[1mtrain: \u001b[0mNew cache created: ../datasets/roboflow/train/labelTxt.cache\n",
            "\u001b[34m\u001b[1mval: \u001b[0mScanning '../datasets/roboflow/valid/labelTxt' images and labels...100 found, 0 missing, 0 empty, 6 corrupted: 100% 100/100 [00:00<00:00, 1529.77it/s]\n",
            "\u001b[34m\u001b[1mval: \u001b[0mWARNING: ../datasets/roboflow/valid/images/C16_jpg.rf.949b74e2a2ed89c2a626adea932802d8.jpg: ignoring corrupt image/label: negative label values [    -40.613], please check your dota format labels\n",
            "\u001b[34m\u001b[1mval: \u001b[0mWARNING: ../datasets/roboflow/valid/images/F19_jpg.rf.0d5b64d85bbdbacda69c3f03ba52b59a.jpg: ignoring corrupt image/label: negative label values [    -57.684], please check your dota format labels\n",
            "\u001b[34m\u001b[1mval: \u001b[0mWARNING: ../datasets/roboflow/valid/images/G27_jpg.rf.8cb699dc850fd69ac0408b02c427681f.jpg: ignoring corrupt image/label: negative label values [     -7.418], please check your dota format labels\n",
            "\u001b[34m\u001b[1mval: \u001b[0mWARNING: ../datasets/roboflow/valid/images/O19_jpg.rf.83bdc9f66059cce286085d6cf043cae4.jpg: ignoring corrupt image/label: negative label values [    -58.267], please check your dota format labels\n",
            "\u001b[34m\u001b[1mval: \u001b[0mWARNING: ../datasets/roboflow/valid/images/Y18_jpg.rf.41a0a0ce3aac0579351ef82293833681.jpg: ignoring corrupt image/label: negative label values [    -19.028], please check your dota format labels\n",
            "\u001b[34m\u001b[1mval: \u001b[0mWARNING: ../datasets/roboflow/valid/images/Y21_jpg.rf.bccdf48993d016f1e854cf913d04e812.jpg: ignoring corrupt image/label: negative label values [    -2.7176], please check your dota format labels\n",
            "\u001b[34m\u001b[1mval: \u001b[0mNew cache created: ../datasets/roboflow/valid/labelTxt.cache\n",
            "Plotting labels to runs/train/exp/labels_xyls.jpg... \n",
            "\n",
            "\u001b[34m\u001b[1mAutoAnchor: \u001b[0m1.91 anchors/target, 1.000 Best Possible Recall (BPR). Current anchors are a good fit to dataset ✅\n",
            "Image sizes 1024 train, 1024 val\n",
            "Using 0 dataloader workers\n",
            "Logging results to \u001b[1mruns/train/exp\u001b[0m\n",
            "Starting training for 10 epochs...\n",
            "\n",
            "     Epoch   gpu_mem       box       obj       cls     theta    labels  img_size\n",
            "       0/9     2.07G     0.026   0.03161   0.02579   0.06093         4      1024: 100% 465/465 [01:18<00:00,  5.95it/s]\n",
            "               Class     Images     Labels          P          R     mAP@.5 mAP@.5:.95: 100% 47/47 [00:02<00:00, 15.78it/s]\n",
            "                 all         94          0          0          0          0          0\n",
            "\n",
            "     Epoch   gpu_mem       box       obj       cls     theta    labels  img_size\n",
            "       1/9     2.35G   0.02047   0.01556   0.02661    0.0633         2      1024: 100% 465/465 [01:16<00:00,  6.10it/s]\n",
            "               Class     Images     Labels          P          R     mAP@.5 mAP@.5:.95: 100% 47/47 [00:03<00:00, 15.43it/s]\n",
            "                 all         94          0          0          0          0          0\n",
            "\n",
            "     Epoch   gpu_mem       box       obj       cls     theta    labels  img_size\n",
            "       2/9     2.35G   0.01768   0.01188   0.02524    0.0612         1      1024: 100% 465/465 [01:16<00:00,  6.10it/s]\n",
            "               Class     Images     Labels          P          R     mAP@.5 mAP@.5:.95: 100% 47/47 [00:03<00:00, 15.40it/s]\n",
            "                 all         94          0          0          0          0          0\n",
            "\n",
            "     Epoch   gpu_mem       box       obj       cls     theta    labels  img_size\n",
            "       3/9     2.35G   0.01767  0.009864   0.02413   0.05916         5      1024: 100% 465/465 [01:13<00:00,  6.32it/s]\n",
            "               Class     Images     Labels          P          R     mAP@.5 mAP@.5:.95: 100% 47/47 [00:02<00:00, 15.79it/s]\n",
            "                 all         94          0          0          0          0          0\n",
            "\n",
            "     Epoch   gpu_mem       box       obj       cls     theta    labels  img_size\n",
            "       4/9     2.35G   0.01645  0.009957   0.02435      0.06         3      1024: 100% 465/465 [01:14<00:00,  6.27it/s]\n",
            "               Class     Images     Labels          P          R     mAP@.5 mAP@.5:.95: 100% 47/47 [00:02<00:00, 15.92it/s]\n",
            "                 all         94          0          0          0          0          0\n",
            "\n",
            "     Epoch   gpu_mem       box       obj       cls     theta    labels  img_size\n",
            "       5/9     2.35G   0.01507  0.009244   0.02392   0.06013         2      1024: 100% 465/465 [01:13<00:00,  6.37it/s]\n",
            "               Class     Images     Labels          P          R     mAP@.5 mAP@.5:.95: 100% 47/47 [00:03<00:00, 15.58it/s]\n",
            "                 all         94         94     0.0278      0.088     0.0328     0.0161\n",
            "\n",
            "     Epoch   gpu_mem       box       obj       cls     theta    labels  img_size\n",
            "       6/9     2.35G   0.01481  0.009356   0.02376   0.05963         0      1024: 100% 465/465 [01:13<00:00,  6.36it/s]\n",
            "               Class     Images     Labels          P          R     mAP@.5 mAP@.5:.95: 100% 47/47 [00:03<00:00, 14.46it/s]\n",
            "                 all         94         94     0.0314      0.255     0.0602     0.0198\n",
            "\n",
            "     Epoch   gpu_mem       box       obj       cls     theta    labels  img_size\n",
            "       7/9     2.35G   0.01387  0.009495    0.0235   0.05988         2      1024: 100% 465/465 [01:10<00:00,  6.60it/s]\n",
            "               Class     Images     Labels          P          R     mAP@.5 mAP@.5:.95: 100% 47/47 [00:03<00:00, 14.28it/s]\n",
            "                 all         94         94     0.0385      0.465     0.0907     0.0459\n",
            "\n",
            "     Epoch   gpu_mem       box       obj       cls     theta    labels  img_size\n",
            "       8/9     2.35G   0.01298  0.008984   0.02331   0.05865         1      1024: 100% 465/465 [01:10<00:00,  6.64it/s]\n",
            "               Class     Images     Labels          P          R     mAP@.5 mAP@.5:.95: 100% 47/47 [00:03<00:00, 14.03it/s]\n",
            "                 all         94         94     0.0802      0.479      0.092     0.0407\n",
            "\n",
            "     Epoch   gpu_mem       box       obj       cls     theta    labels  img_size\n",
            "       9/9     2.35G   0.01249   0.00904   0.02403   0.06041         1      1024: 100% 465/465 [01:10<00:00,  6.57it/s]\n",
            "               Class     Images     Labels          P          R     mAP@.5 mAP@.5:.95: 100% 47/47 [00:03<00:00, 14.30it/s]\n",
            "                 all         94         94     0.0386      0.498     0.0738     0.0355\n",
            "\n",
            "10 epochs completed in 0.216 hours.\n",
            "Optimizer stripped from runs/train/exp/weights/last.pt, 44.2MB\n",
            "Optimizer stripped from runs/train/exp/weights/best.pt, 44.2MB\n",
            "\n",
            "Validating runs/train/exp/weights/best.pt...\n",
            "Fusing layers... \n",
            "Model Summary: 290 layers, 21681339 parameters, 0 gradients, 50.6 GFLOPs\n",
            "               Class     Images     Labels          P          R     mAP@.5 mAP@.5:.95: 100% 47/47 [00:04<00:00, 11.25it/s]\n",
            "                 all         94         94     0.0362      0.465     0.0879     0.0444\n",
            "                   A         94          3      0.075          1     0.0943     0.0452\n",
            "                   B         94          6     0.0294      0.167      0.021     0.0021\n",
            "                   C         94          1          0          0          0          0\n",
            "                   D         94          2     0.0444          1     0.0642     0.0215\n",
            "                   E         94          4      0.037        0.5      0.326      0.204\n",
            "                   F         94          5          0          0          0          0\n",
            "                   G         94          4     0.0536       0.75     0.0747     0.0185\n",
            "                   H         94          3     0.0392      0.667     0.0362    0.00501\n",
            "                   I         94          4     0.0371        0.5     0.0342     0.0239\n",
            "                   J         94          5     0.0339        0.4     0.0779     0.0541\n",
            "                   K         94          2     0.0194          1     0.0423      0.014\n",
            "                   L         94          5      0.143        0.2      0.107      0.064\n",
            "                   M         94          2     0.0156        0.5     0.0747     0.0523\n",
            "                   N         94          5     0.0732        0.6      0.259      0.182\n",
            "                   O         94          2          0          0          0          0\n",
            "                   P         94          5          0          0          0          0\n",
            "                   Q         94          5          0          0          0          0\n",
            "                   R         94          3     0.0357      0.333     0.0258     0.0129\n",
            "                   S         94          2     0.0312          1     0.0326     0.0208\n",
            "                   U         94          5          0          0          0          0\n",
            "                   V         94          4     0.0444        0.5     0.0544     0.0201\n",
            "                   W         94          4     0.0667        0.5      0.175     0.0876\n",
            "                   X         94          6          0          0          0          0\n",
            "                   Y         94          2     0.0357          1     0.0415     0.0139\n",
            "                   Z         94          5     0.0893          1      0.656      0.269\n",
            "Results saved to \u001b[1mruns/train/exp\u001b[0m\n"
          ]
        }
      ]
    },
    {
      "cell_type": "code",
      "source": [
        "%cd /content/yolov5_obb/"
      ],
      "metadata": {
        "colab": {
          "base_uri": "https://localhost:8080/"
        },
        "id": "C8xmu3Fy8qSc",
        "outputId": "834b37ec-cfb6-41e1-9957-8175b0aa4e1a"
      },
      "execution_count": null,
      "outputs": [
        {
          "output_type": "stream",
          "name": "stdout",
          "text": [
            "/content/yolov5_obb\n"
          ]
        }
      ]
    },
    {
      "cell_type": "code",
      "source": [
        "!python detect.py --weights 'runs/train/exp/weights/best.pt' --source '../datasets/roboflow/valid/images' --conf-thres 0.01 --img 416 --device 0 --agnostic"
      ],
      "metadata": {
        "id": "8yBGxIBJbL1W",
        "colab": {
          "base_uri": "https://localhost:8080/"
        },
        "outputId": "13ca4dae-89cf-4593-bddb-8c6f33a1ad28"
      },
      "execution_count": null,
      "outputs": [
        {
          "output_type": "stream",
          "name": "stdout",
          "text": [
            "\u001b[34m\u001b[1mdetect: \u001b[0mweights=['runs/train/exp/weights/best.pt'], source=../datasets/roboflow/valid/images, imgsz=[416, 416], conf_thres=0.01, iou_thres=0.4, max_det=1000, device=0, view_img=False, save_txt=False, save_conf=False, save_crop=False, nosave=False, classes=None, agnostic_nms=True, augment=False, visualize=False, update=False, project=runs/detect, name=exp, exist_ok=False, line_thickness=2, hide_labels=False, hide_conf=False, half=False, dnn=False\n",
            "YOLOv5 🚀 3f2e708 torch 1.10.1+cu113 CUDA:0 (Tesla T4, 15110MiB)\n",
            "\n",
            "Fusing layers... \n",
            "Model Summary: 290 layers, 21681339 parameters, 0 gradients, 50.6 GFLOPs\n",
            "image 1/100 /content/datasets/roboflow/valid/images/A1_jpg.rf.467e301f7decc39d6f77e45ab7614421.jpg: 416x416 1 J, Done. (0.020s)\n",
            "image 2/100 /content/datasets/roboflow/valid/images/A23_jpg.rf.07a011103d0153dcd03a18761c226699.jpg: 416x416 1 J, Done. (0.020s)\n",
            "image 3/100 /content/datasets/roboflow/valid/images/A27_jpg.rf.6814a529152cbda95b5d5ff2f0594a96.jpg: 416x416 1 J, Done. (0.020s)\n",
            "image 4/100 /content/datasets/roboflow/valid/images/B10_jpg.rf.95839a6177c3d1c975afb837960d89ab.jpg: 416x416 1 J, Done. (0.016s)\n",
            "image 5/100 /content/datasets/roboflow/valid/images/B16_jpg.rf.4a1129d006fe6a62287e528a7163f6cd.jpg: 416x416 1 Z, Done. (0.016s)\n",
            "image 6/100 /content/datasets/roboflow/valid/images/B21_jpg.rf.215ef3f6a592fc588fe6ab898eb2a4a7.jpg: 416x416 1 Z, Done. (0.016s)\n",
            "image 7/100 /content/datasets/roboflow/valid/images/B22_jpg.rf.345b69013b85fd040093cc9fc36eadf4.jpg: 416x416 1 J, Done. (0.015s)\n",
            "image 8/100 /content/datasets/roboflow/valid/images/B23_jpg.rf.90629db8f26de2510d2fe6f2322621b1.jpg: 416x416 1 J, Done. (0.015s)\n",
            "image 9/100 /content/datasets/roboflow/valid/images/B24_jpg.rf.dc41d1191f8612e8baa1ac014f0e5812.jpg: 416x416 1 J, Done. (0.018s)\n",
            "image 10/100 /content/datasets/roboflow/valid/images/C16_jpg.rf.949b74e2a2ed89c2a626adea932802d8.jpg: 416x416 2 Js, Done. (0.016s)\n",
            "image 11/100 /content/datasets/roboflow/valid/images/C8_jpg.rf.19672e5bba4c24904f6974880851651f.jpg: 416x416 Done. (0.015s)\n",
            "image 12/100 /content/datasets/roboflow/valid/images/D15_jpg.rf.0d21d225034b658a57e3d4c2c03454ad.jpg: 416x416 1 J, Done. (0.015s)\n",
            "image 13/100 /content/datasets/roboflow/valid/images/D22_jpg.rf.a20241f1a934b24d9dd51685a0c9dab2.jpg: 416x416 1 Z, Done. (0.016s)\n",
            "image 14/100 /content/datasets/roboflow/valid/images/E10_jpg.rf.ff0e59c67309f7f89405015bfde5ffa9.jpg: 416x416 1 J, Done. (0.016s)\n",
            "image 15/100 /content/datasets/roboflow/valid/images/E14_jpg.rf.8a2507d0781bb6b6806577e52b4bd722.jpg: 416x416 1 J, Done. (0.014s)\n",
            "image 16/100 /content/datasets/roboflow/valid/images/E15_jpg.rf.dd7735e12f06003d1fdb88271095c233.jpg: 416x416 1 J, Done. (0.014s)\n",
            "image 17/100 /content/datasets/roboflow/valid/images/E17_jpg.rf.7c322f7d14095ac4a76af53c7741d556.jpg: 416x416 1 J, Done. (0.015s)\n",
            "image 18/100 /content/datasets/roboflow/valid/images/F12_jpg.rf.a9bc2c785704c021446a75cda4441237.jpg: 416x416 1 J, Done. (0.014s)\n",
            "image 19/100 /content/datasets/roboflow/valid/images/F19_jpg.rf.0d5b64d85bbdbacda69c3f03ba52b59a.jpg: 416x416 1 M, Done. (0.014s)\n",
            "image 20/100 /content/datasets/roboflow/valid/images/F21_jpg.rf.af8dbcaa4f4cb4c0ef85afb0f91508b0.jpg: 416x416 1 Z, Done. (0.014s)\n",
            "image 21/100 /content/datasets/roboflow/valid/images/F24_jpg.rf.25f3a3a3cc94953ee5583b224c8b6e0b.jpg: 416x416 1 J, Done. (0.015s)\n",
            "image 22/100 /content/datasets/roboflow/valid/images/F28_jpg.rf.0d02b3727776cc18141269680a14f776.jpg: 416x416 1 J, Done. (0.016s)\n",
            "image 23/100 /content/datasets/roboflow/valid/images/F3_jpg.rf.f60ff93459779bb36ba48c9b5bb39ff1.jpg: 416x416 1 J, Done. (0.014s)\n",
            "image 24/100 /content/datasets/roboflow/valid/images/G17_jpg.rf.e88f604ed160954123f9877b50767fa3.jpg: 416x416 2 Js, Done. (0.014s)\n",
            "image 25/100 /content/datasets/roboflow/valid/images/G1_jpg.rf.6543ee2b9cb31330f312a35f225e38d3.jpg: 416x416 2 Js, Done. (0.017s)\n",
            "image 26/100 /content/datasets/roboflow/valid/images/G27_jpg.rf.8cb699dc850fd69ac0408b02c427681f.jpg: 416x416 1 J, Done. (0.014s)\n",
            "image 27/100 /content/datasets/roboflow/valid/images/G6_jpg.rf.f82cf2dff5d0f5ecc978f3a679a10d28.jpg: 416x416 3 Js, Done. (0.014s)\n",
            "image 28/100 /content/datasets/roboflow/valid/images/G7_jpg.rf.d43783d601222f51b92828b34d17a077.jpg: 416x416 2 Js, Done. (0.014s)\n",
            "image 29/100 /content/datasets/roboflow/valid/images/H0_jpg.rf.cfabbc7d888a6e975ce3e58355c916c8.jpg: 416x416 2 Js, Done. (0.014s)\n",
            "image 30/100 /content/datasets/roboflow/valid/images/H1_jpg.rf.7364784943c9e355d9f877b1bddd2646.jpg: 416x416 2 Js, Done. (0.018s)\n",
            "image 31/100 /content/datasets/roboflow/valid/images/H2_jpg.rf.45bd9828aa27be81f06b6cc236ae18d5.jpg: 416x416 1 J, Done. (0.014s)\n",
            "image 32/100 /content/datasets/roboflow/valid/images/I10_jpg.rf.aa1a480e6ab8acf7e8d93784d448a0ff.jpg: 416x416 1 J, Done. (0.014s)\n",
            "image 33/100 /content/datasets/roboflow/valid/images/I28_jpg.rf.ae79c23a8090b4e6f3870e08a589d38b.jpg: 416x416 Done. (0.014s)\n",
            "image 34/100 /content/datasets/roboflow/valid/images/I3_jpg.rf.3c14c051989bfdb12d5f12267c3600d5.jpg: 416x416 2 Js, Done. (0.014s)\n",
            "image 35/100 /content/datasets/roboflow/valid/images/I4_jpg.rf.70d0d54c62e42c3ecb65c7ce6d6c8bb2.jpg: 416x416 1 J, Done. (0.014s)\n",
            "image 36/100 /content/datasets/roboflow/valid/images/J13_jpg.rf.5187b9301a86e0b1f7e342715285f20f.jpg: 416x416 2 Js, Done. (0.017s)\n",
            "image 37/100 /content/datasets/roboflow/valid/images/J17_jpg.rf.a9efc2d4fe3e3f8ce32ce94956300306.jpg: 416x416 Done. (0.014s)\n",
            "image 38/100 /content/datasets/roboflow/valid/images/J21_jpg.rf.3250a1c4761352c6694826a6cef4c56e.jpg: 416x416 Done. (0.017s)\n",
            "image 39/100 /content/datasets/roboflow/valid/images/J27_jpg.rf.74fe9a4c2b0fbd0dde5b7c0f34baaf14.jpg: 416x416 1 J, Done. (0.014s)\n",
            "image 40/100 /content/datasets/roboflow/valid/images/J30_jpg.rf.f4175ab0c2e796baafbfd0b5d13c2885.jpg: 416x416 1 J, Done. (0.014s)\n",
            "image 41/100 /content/datasets/roboflow/valid/images/K19_jpg.rf.c13d89cdccdfad11666af66696ed9cde.jpg: 416x416 2 Js, Done. (0.016s)\n",
            "image 42/100 /content/datasets/roboflow/valid/images/K24_jpg.rf.4248a741b43ccc99c75db07eaaa7c554.jpg: 416x416 2 Js, Done. (0.015s)\n",
            "image 43/100 /content/datasets/roboflow/valid/images/L11_jpg.rf.4f3a0be4eac31453dbc4d4d2c1d850f8.jpg: 416x416 1 J, Done. (0.014s)\n",
            "image 44/100 /content/datasets/roboflow/valid/images/L18_jpg.rf.57810d412f5807dc40d18172067bd647.jpg: 416x416 1 J, Done. (0.014s)\n",
            "image 45/100 /content/datasets/roboflow/valid/images/L26_jpg.rf.d32aeaeb21312899b32f7b5ac038db50.jpg: 416x416 1 J, Done. (0.014s)\n",
            "image 46/100 /content/datasets/roboflow/valid/images/L7_jpg.rf.1e95101e85cd9feb39fbad0cd8064902.jpg: 416x416 1 J, Done. (0.014s)\n",
            "image 47/100 /content/datasets/roboflow/valid/images/L8_jpg.rf.c87c4490deec73bfe8bd32502d5631e4.jpg: 416x416 2 Js, Done. (0.014s)\n",
            "image 48/100 /content/datasets/roboflow/valid/images/M12_jpg.rf.b4b5f6c5aa050e2faad1fb0f399a1c63.jpg: 416x416 1 J, Done. (0.014s)\n",
            "image 49/100 /content/datasets/roboflow/valid/images/M20_jpg.rf.e5f99eee1f191893ecce37a2975d2a0c.jpg: 416x416 Done. (0.014s)\n",
            "image 50/100 /content/datasets/roboflow/valid/images/N17_jpg.rf.a6fa64c1e09b00c97e59706cefb205c1.jpg: 416x416 1 J, Done. (0.014s)\n",
            "image 51/100 /content/datasets/roboflow/valid/images/N19_jpg.rf.be2f3562efaab16dff4bb29a02bebfb0.jpg: 416x416 1 J, Done. (0.017s)\n",
            "image 52/100 /content/datasets/roboflow/valid/images/N20_jpg.rf.87194581cce798ca164d56d7e3b753bc.jpg: 416x416 1 J, Done. (0.014s)\n",
            "image 53/100 /content/datasets/roboflow/valid/images/N4_jpg.rf.b8dc74a60b18d61234c75dc4360b9a94.jpg: 416x416 1 J, Done. (0.015s)\n",
            "image 54/100 /content/datasets/roboflow/valid/images/N5_jpg.rf.32839859648f10c3528bc6d2db73d558.jpg: 416x416 1 J, Done. (0.014s)\n",
            "image 55/100 /content/datasets/roboflow/valid/images/O13_jpg.rf.ac6d0ba8a1dd7444178dd141be18e125.jpg: 416x416 1 G, Done. (0.015s)\n",
            "image 56/100 /content/datasets/roboflow/valid/images/O19_jpg.rf.83bdc9f66059cce286085d6cf043cae4.jpg: 416x416 1 Z, Done. (0.016s)\n",
            "image 57/100 /content/datasets/roboflow/valid/images/O27_jpg.rf.0d12bd2abd6f6745f6719e7cadd6fb55.jpg: 416x416 1 J, Done. (0.014s)\n",
            "image 58/100 /content/datasets/roboflow/valid/images/P10_jpg.rf.cecbe7793f212abec5fdc156eea9237d.jpg: 416x416 1 J, Done. (0.015s)\n",
            "image 59/100 /content/datasets/roboflow/valid/images/P13_jpg.rf.7cceee118a4caa317fb32fb1945cbb33.jpg: 416x416 1 J, Done. (0.014s)\n",
            "image 60/100 /content/datasets/roboflow/valid/images/P2_jpg.rf.24cfcfe29ac106809f532dec28d8477e.jpg: 416x416 Done. (0.014s)\n",
            "image 61/100 /content/datasets/roboflow/valid/images/P3_jpg.rf.c969486bf027c8c4042c365157fb5796.jpg: 416x416 1 J, Done. (0.014s)\n",
            "image 62/100 /content/datasets/roboflow/valid/images/P5_jpg.rf.a1ffc9f1c39b4bbf8496afea35f7bfe9.jpg: 416x416 1 J, Done. (0.014s)\n",
            "image 63/100 /content/datasets/roboflow/valid/images/Q0_jpg.rf.6ea3b095c09e5262fc14067234e40193.jpg: 416x416 Done. (0.014s)\n",
            "image 64/100 /content/datasets/roboflow/valid/images/Q10_jpg.rf.b565ebe86b079f39e9f8c3e420489ba9.jpg: 416x416 Done. (0.016s)\n",
            "image 65/100 /content/datasets/roboflow/valid/images/Q18_jpg.rf.7162ef310f8f0db77741b6b6b52fce9d.jpg: 416x416 1 J, Done. (0.014s)\n",
            "image 66/100 /content/datasets/roboflow/valid/images/Q2_jpg.rf.b60287d281dd196486d537bfb6c976c2.jpg: 416x416 Done. (0.014s)\n",
            "image 67/100 /content/datasets/roboflow/valid/images/Q8_jpg.rf.55fb4b28de5744f0759d63ac54320774.jpg: 416x416 1 G, Done. (0.014s)\n",
            "image 68/100 /content/datasets/roboflow/valid/images/R14_jpg.rf.f494b6b003744648f70b6aad71a9f796.jpg: 416x416 1 J, Done. (0.015s)\n",
            "image 69/100 /content/datasets/roboflow/valid/images/R20_jpg.rf.c539e8afcad2b076d837c0426c923977.jpg: 416x416 1 J, Done. (0.015s)\n",
            "image 70/100 /content/datasets/roboflow/valid/images/R8_jpg.rf.3a7449f782784a9056b73c71935e0780.jpg: 416x416 2 Js, Done. (0.015s)\n",
            "image 71/100 /content/datasets/roboflow/valid/images/S11_jpg.rf.67c11d1e78ed6dd7ea834279b53eb1fa.jpg: 416x416 1 J, Done. (0.014s)\n",
            "image 72/100 /content/datasets/roboflow/valid/images/S3_jpg.rf.6363f7ebb443353455e4abfac892f063.jpg: 416x416 1 J, Done. (0.014s)\n",
            "image 73/100 /content/datasets/roboflow/valid/images/U15_jpg.rf.28a48bc45c6ab022e42f9cec8af87961.jpg: 416x416 1 M, Done. (0.014s)\n",
            "image 74/100 /content/datasets/roboflow/valid/images/U19_jpg.rf.64da8274038e6c48da9cc596345b867e.jpg: 416x416 1 J, Done. (0.019s)\n",
            "image 75/100 /content/datasets/roboflow/valid/images/U23_jpg.rf.1a7c8ce758698fbdad6a84aaba95d365.jpg: 416x416 1 J, Done. (0.014s)\n",
            "image 76/100 /content/datasets/roboflow/valid/images/U24_jpg.rf.d2d7a816fd4370b898afdd6e1374d36f.jpg: 416x416 2 Js, Done. (0.015s)\n",
            "image 77/100 /content/datasets/roboflow/valid/images/U6_jpg.rf.8996606d2ad6d824bd47410f0120f945.jpg: 416x416 1 J, Done. (0.017s)\n",
            "image 78/100 /content/datasets/roboflow/valid/images/V0_jpg.rf.c9f143295b4ec2fee610df9cfb27356d.jpg: 416x416 1 J, Done. (0.014s)\n",
            "image 79/100 /content/datasets/roboflow/valid/images/V16_jpg.rf.643e7f2eb21ee113bc19583e732a6fa2.jpg: 416x416 1 J, Done. (0.014s)\n",
            "image 80/100 /content/datasets/roboflow/valid/images/V18_jpg.rf.e9aeabb53005f209998d8f78de207fe8.jpg: 416x416 1 J, Done. (0.015s)\n",
            "image 81/100 /content/datasets/roboflow/valid/images/V4_jpg.rf.6c3247b2b664c2166ef260210114cc33.jpg: 416x416 2 Js, Done. (0.015s)\n",
            "image 82/100 /content/datasets/roboflow/valid/images/W0_jpg.rf.c0faba963ab363c13d739ac7efb2d36d.jpg: 416x416 1 J, Done. (0.015s)\n",
            "image 83/100 /content/datasets/roboflow/valid/images/W17_jpg.rf.3494b13d1073cb63a8f0c9ec99ff89fa.jpg: 416x416 1 M, Done. (0.015s)\n",
            "image 84/100 /content/datasets/roboflow/valid/images/W3_jpg.rf.ba0b8e075ee46eaed585cdbb373d61db.jpg: 416x416 1 J, Done. (0.014s)\n",
            "image 85/100 /content/datasets/roboflow/valid/images/W4_jpg.rf.5ffc87d10ab68ee7b0c1e7c882ecf5a2.jpg: 416x416 2 Js, Done. (0.015s)\n",
            "image 86/100 /content/datasets/roboflow/valid/images/X0_jpg.rf.927ee1bf6f6b69799735e77e66e5943e.jpg: 416x416 1 J, Done. (0.014s)\n",
            "image 87/100 /content/datasets/roboflow/valid/images/X21_jpg.rf.5b6d7c11431926b3cd043b71ec06bf08.jpg: 416x416 1 J, Done. (0.020s)\n",
            "image 88/100 /content/datasets/roboflow/valid/images/X2_jpg.rf.6ed289076514e5702315f73ef61b070e.jpg: 416x416 1 M, Done. (0.014s)\n",
            "image 89/100 /content/datasets/roboflow/valid/images/X4_jpg.rf.48896688e794e367dc9924184438907d.jpg: 416x416 1 J, Done. (0.017s)\n",
            "image 90/100 /content/datasets/roboflow/valid/images/X7_jpg.rf.96603a5ceb478b0ae22cef147ec529be.jpg: 416x416 1 M, Done. (0.014s)\n",
            "image 91/100 /content/datasets/roboflow/valid/images/X9_jpg.rf.2c3cb4f7796340cdd17b07cad1d67d03.jpg: 416x416 1 Z, Done. (0.015s)\n",
            "image 92/100 /content/datasets/roboflow/valid/images/Y0_jpg.rf.22b6fb5a31b98c7c5a8eae4a768d8652.jpg: 416x416 1 J, Done. (0.014s)\n",
            "image 93/100 /content/datasets/roboflow/valid/images/Y16_jpg.rf.4e90ec98cbad8faac43a073775bf99a6.jpg: 416x416 1 H, Done. (0.015s)\n",
            "image 94/100 /content/datasets/roboflow/valid/images/Y18_jpg.rf.41a0a0ce3aac0579351ef82293833681.jpg: 416x416 1 J, Done. (0.014s)\n",
            "image 95/100 /content/datasets/roboflow/valid/images/Y21_jpg.rf.bccdf48993d016f1e854cf913d04e812.jpg: 416x416 1 J, Done. (0.014s)\n",
            "image 96/100 /content/datasets/roboflow/valid/images/Z21_jpg.rf.9a2f9795b326eecd3e63125282518d39.jpg: 416x416 1 J, Done. (0.014s)\n",
            "image 97/100 /content/datasets/roboflow/valid/images/Z22_jpg.rf.e3f5a3ad162498925a7f4631d6dbf941.jpg: 416x416 1 J, Done. (0.014s)\n",
            "image 98/100 /content/datasets/roboflow/valid/images/Z28_jpg.rf.ed4041d9c0585dc824ec25f741efcfdf.jpg: 416x416 1 J, Done. (0.016s)\n",
            "image 99/100 /content/datasets/roboflow/valid/images/Z29_jpg.rf.22988c860a9a7984016b8442f9326c16.jpg: 416x416 1 J, Done. (0.016s)\n",
            "image 100/100 /content/datasets/roboflow/valid/images/Z3_jpg.rf.64cfcd41c84290c4aa8a28bb66417c5c.jpg: 416x416 1 J, Done. (0.014s)\n",
            "Speed: 0.3ms pre-process, 15.0ms inference, 2.2ms NMS per image at shape (1, 3, 416, 416)\n",
            "Results saved to \u001b[1mruns/detect/exp\u001b[0m\n"
          ]
        }
      ]
    },
    {
      "cell_type": "code",
      "source": [
        "%cd /content/yolov5_obb/runs/detect/exp/"
      ],
      "metadata": {
        "colab": {
          "base_uri": "https://localhost:8080/"
        },
        "id": "D782nBcaL5er",
        "outputId": "bd290169-eee7-4eba-a191-6b07fc9355e3"
      },
      "execution_count": null,
      "outputs": [
        {
          "output_type": "stream",
          "name": "stdout",
          "text": [
            "/content/yolov5_obb/runs/detect/exp\n"
          ]
        }
      ]
    },
    {
      "cell_type": "code",
      "source": [
        "import os, random\n",
        "random_file = random.choice(os.listdir(\"/content/yolov5_obb/runs/detect/exp\"))\n",
        "\n",
        "from IPython.display import Image\n",
        "Image(random_file)"
      ],
      "metadata": {
        "id": "K6RlZpzxb_kE",
        "colab": {
          "base_uri": "https://localhost:8080/",
          "height": 433
        },
        "outputId": "d7aa06b2-464d-46b3-87e5-fc2ca6f4c44b"
      },
      "execution_count": null,
      "outputs": [
        {
          "output_type": "execute_result",
          "data": {
            "text/plain": [
              "<IPython.core.display.Image object>"
            ],
            "image/jpeg": "[encoded data removed]"
          },
          "metadata": {},
          "execution_count": 17
        }
      ]
    }
  ]
}