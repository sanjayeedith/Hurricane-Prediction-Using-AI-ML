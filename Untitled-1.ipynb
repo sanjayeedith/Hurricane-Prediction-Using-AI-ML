{
 "cells": [
  {
   "cell_type": "code",
   "execution_count": 2,
   "metadata": {},
   "outputs": [
    {
     "name": "stdout",
     "output_type": "stream",
     "text": [
      "Conversion successful. Result saved to: C:\\Users\\Sanjay\\Pictures\\XML\\20190804111453_tile_8679_band_2.txt\n"
     ]
    }
   ],
   "source": [
    "import numpy as np\n",
    "import BboxToolkit as bt\n",
    "import xml.etree.ElementTree as ET\n",
    "\n",
    "# Load XML file\n",
    "xml_file_path = r\"C:\\Users\\Sanjay\\Pictures\\XML\\20190804111453_tile_8679_band_2.xml\"\n",
    "tree = ET.parse(xml_file_path)\n",
    "root = tree.getroot()\n",
    "\n",
    "# Initialize lists to store bounding box information\n",
    "cx_list, cy_list, w_list, h_list, angle_list = [], [], [], [], []\n",
    "\n",
    "# Extract bounding box information from XML\n",
    "for obj in root.findall(\".//object\"):\n",
    "    cx = float(obj.find(\"robndbox/cx\").text)\n",
    "    cy = float(obj.find(\"robndbox/cy\").text)\n",
    "    w = float(obj.find(\"robndbox/w\").text)\n",
    "    h = float(obj.find(\"robndbox/h\").text)\n",
    "    angle = float(obj.find(\"robndbox/angle\").text)\n",
    "\n",
    "    cx_list.append(cx)\n",
    "    cy_list.append(cy)\n",
    "    w_list.append(w)\n",
    "    h_list.append(h)\n",
    "    angle_list.append(angle)\n",
    "\n",
    "# Convert to hbb format using BboxToolkit\n",
    "hbb1 = np.column_stack((cx_list, cy_list, w_list, h_list, angle_list))\n",
    "hbb2 = bt.bbox2type(hbb1, 'hbb')\n",
    "\n",
    "# Get indices for xmin, ymin, xmax, ymax\n",
    "xmin, ymin, xmax, ymax = hbb2[:, 0], hbb2[:, 1], hbb2[:, 2], hbb2[:, 3]\n",
    "\n",
    "# Image size\n",
    "image_width = 900\n",
    "image_height = 900\n",
    "\n",
    "# Calculate normalized coordinates\n",
    "normalized_x_center = (xmin + xmax) / (2 * image_width)\n",
    "normalized_y_center = (ymin + ymax) / (2 * image_height)\n",
    "normalized_width = (xmax - xmin) / image_width\n",
    "normalized_height = (ymax - ymin) / image_height\n",
    "\n",
    "# Add class_id (0) to the format\n",
    "class_id = np.zeros_like(normalized_x_center, dtype=int)\n",
    "\n",
    "# Make sure all arrays have the same number of elements\n",
    "output_text = np.column_stack((class_id, normalized_x_center, normalized_y_center, normalized_width, normalized_height))\n",
    "\n",
    "# Save the result to a text file with the same name\n",
    "output_file_path = xml_file_path.replace(\".xml\", \".txt\")\n",
    "np.savetxt(output_file_path, output_text, fmt=\"%d %.6f %.6f %.6f %.6f\")\n",
    "\n",
    "print(f\"Conversion successful. Result saved to: {output_file_path}\")\n"
   ]
  },
  {
   "cell_type": "code",
   "execution_count": 4,
   "metadata": {},
   "outputs": [
    {
     "data": {
      "text/plain": [
       "(443.3026, 798.5512, 27.8782, 191.0998)"
      ]
     },
     "execution_count": 4,
     "metadata": {},
     "output_type": "execute_result"
    }
   ],
   "source": [
    "cx, cy, w, h"
   ]
  },
  {
   "cell_type": "code",
   "execution_count": 7,
   "metadata": {},
   "outputs": [
    {
     "data": {
      "text/plain": [
       "(2,)"
      ]
     },
     "execution_count": 7,
     "metadata": {},
     "output_type": "execute_result"
    }
   ],
   "source": [
    "class_id.shape"
   ]
  }
 ],
 "metadata": {
  "kernelspec": {
   "display_name": "Python 3",
   "language": "python",
   "name": "python3"
  },
  "language_info": {
   "codemirror_mode": {
    "name": "ipython",
    "version": 3
   },
   "file_extension": ".py",
   "mimetype": "text/x-python",
   "name": "python",
   "nbconvert_exporter": "python",
   "pygments_lexer": "ipython3",
   "version": "3.10.6"
  }
 },
 "nbformat": 4,
 "nbformat_minor": 2
}
